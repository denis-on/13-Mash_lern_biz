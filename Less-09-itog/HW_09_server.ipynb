{
 "cells": [
  {
   "cell_type": "markdown",
   "metadata": {
    "id": "Prz_2V3_deQ-"
   },
   "source": [
    "# Машинное обучение в бизнесе.\n",
    "# Урок 9. Интеграция. Итоговый проект.\n",
    "# Серверный файл"
   ]
  },
  {
   "cell_type": "code",
   "execution_count": 5,
   "metadata": {
    "colab": {
     "base_uri": "https://localhost:8080/"
    },
    "executionInfo": {
     "elapsed": 4261,
     "status": "ok",
     "timestamp": 1655313795584,
     "user": {
      "displayName": "Maxim Gasilin",
      "userId": "15501735730920561422"
     },
     "user_tz": -180
    },
    "id": "fEbev1B-hsfu",
    "outputId": "4ad68b15-a59f-4e1d-e2d4-75b109aa38ed"
   },
   "outputs": [
    {
     "name": "stdout",
     "output_type": "stream",
     "text": [
      "Defaulting to user installation because normal site-packages is not writeable\n",
      "Requirement already satisfied: flask-ngrok in c:\\users\\miniasus\\appdata\\roaming\\python\\python39\\site-packages (0.0.25)\n",
      "Requirement already satisfied: requests in c:\\programdata\\anaconda3\\lib\\site-packages (from flask-ngrok) (2.27.1)\n",
      "Requirement already satisfied: Flask>=0.8 in c:\\programdata\\anaconda3\\lib\\site-packages (from flask-ngrok) (1.1.2)\n",
      "Requirement already satisfied: itsdangerous>=0.24 in c:\\programdata\\anaconda3\\lib\\site-packages (from Flask>=0.8->flask-ngrok) (2.0.1)\n",
      "Requirement already satisfied: Werkzeug>=0.15 in c:\\programdata\\anaconda3\\lib\\site-packages (from Flask>=0.8->flask-ngrok) (2.0.3)\n",
      "Requirement already satisfied: Jinja2>=2.10.1 in c:\\programdata\\anaconda3\\lib\\site-packages (from Flask>=0.8->flask-ngrok) (2.11.3)\n",
      "Requirement already satisfied: click>=5.1 in c:\\programdata\\anaconda3\\lib\\site-packages (from Flask>=0.8->flask-ngrok) (8.0.4)\n",
      "Requirement already satisfied: colorama in c:\\programdata\\anaconda3\\lib\\site-packages (from click>=5.1->Flask>=0.8->flask-ngrok) (0.4.4)\n",
      "Requirement already satisfied: MarkupSafe>=0.23 in c:\\programdata\\anaconda3\\lib\\site-packages (from Jinja2>=2.10.1->Flask>=0.8->flask-ngrok) (2.0.1)\n",
      "Requirement already satisfied: urllib3<1.27,>=1.21.1 in c:\\programdata\\anaconda3\\lib\\site-packages (from requests->flask-ngrok) (1.26.9)\n",
      "Requirement already satisfied: certifi>=2017.4.17 in c:\\programdata\\anaconda3\\lib\\site-packages (from requests->flask-ngrok) (2021.10.8)\n",
      "Requirement already satisfied: charset-normalizer~=2.0.0 in c:\\programdata\\anaconda3\\lib\\site-packages (from requests->flask-ngrok) (2.0.4)\n",
      "Requirement already satisfied: idna<4,>=2.5 in c:\\programdata\\anaconda3\\lib\\site-packages (from requests->flask-ngrok) (3.3)\n"
     ]
    }
   ],
   "source": [
    "!pip install flask-ngrok"
   ]
  },
  {
   "cell_type": "code",
   "execution_count": 9,
   "metadata": {
    "executionInfo": {
     "elapsed": 879,
     "status": "ok",
     "timestamp": 1655313798570,
     "user": {
      "displayName": "Maxim Gasilin",
      "userId": "15501735730920561422"
     },
     "user_tz": -180
    },
    "id": "81i2Pk7bc84l"
   },
   "outputs": [],
   "source": [
    "from flask import Flask, request, jsonify\n",
    "from flask_ngrok import run_with_ngrok\n",
    "\n",
    "import pandas as pd\n",
    "\n",
    "import json\n",
    "import pickle"
   ]
  },
  {
   "cell_type": "markdown",
   "metadata": {
    "id": "yBAwyQdBiFYt"
   },
   "source": [
    "2AUW8TJ2bCLBIrjRzLObh4T4K8C_3fBsg5dERoQyws9A8CgyF"
   ]
  },
  {
   "cell_type": "code",
   "execution_count": null,
   "metadata": {},
   "outputs": [],
   "source": [
    "!wget https://bin.equinox.io/c/4VmDzA7iaHb/ngrok-stable-linux-amd64.tgz\n",
    "!tar -xvf /content/ngrok-stable-linux-amd64.tgz\n",
    "!./ngrok authtoken 2AUW8TJ2bCLBIrjRzLObh4T4K8C_3fBsg5dERoQyws9A8CgyF\n",
    "!./ngrok http 80"
   ]
  },
  {
   "cell_type": "code",
   "execution_count": 10,
   "metadata": {
    "colab": {
     "base_uri": "https://localhost:8080/"
    },
    "executionInfo": {
     "elapsed": 203858,
     "status": "ok",
     "timestamp": 1655314010147,
     "user": {
      "displayName": "Maxim Gasilin",
      "userId": "15501735730920561422"
     },
     "user_tz": -180
    },
    "id": "hea3Mi2edc5w",
    "outputId": "10e2f638-7450-4219-d626-11ec3b4a7836"
   },
   "outputs": [
    {
     "name": "stdout",
     "output_type": "stream",
     "text": [
      " * Serving Flask app \"__main__\" (lazy loading)\n",
      " * Environment: production\n",
      "\u001b[31m   WARNING: This is a development server. Do not use it in a production deployment.\u001b[0m\n",
      "\u001b[2m   Use a production WSGI server instead.\u001b[0m\n",
      " * Debug mode: off\n"
     ]
    },
    {
     "name": "stderr",
     "output_type": "stream",
     "text": [
      " * Running on http://127.0.0.1:5000/ (Press CTRL+C to quit)\n"
     ]
    },
    {
     "name": "stdout",
     "output_type": "stream",
     "text": [
      " * Running on http://36be-79-111-118-0.ngrok.io\n",
      " * Traffic stats available on http://127.0.0.1:4040\n"
     ]
    },
    {
     "name": "stderr",
     "output_type": "stream",
     "text": [
      "127.0.0.1 - - [19/Jul/2023 23:41:17] \"POST /predict HTTP/1.1\" 200 -\n"
     ]
    },
    {
     "name": "stdout",
     "output_type": "stream",
     "text": [
      "[1]\n"
     ]
    },
    {
     "name": "stderr",
     "output_type": "stream",
     "text": [
      "127.0.0.1 - - [19/Jul/2023 23:41:28] \"POST /predict HTTP/1.1\" 200 -\n"
     ]
    },
    {
     "name": "stdout",
     "output_type": "stream",
     "text": [
      "[0]\n"
     ]
    }
   ],
   "source": [
    "app = Flask(__name__)\n",
    "run_with_ngrok(app)  # Start ngrok when app is run\n",
    "\n",
    "@app.route(\"/\", methods=[\"GET\"])\n",
    "def general():\n",
    "    return \"Congratulation message! Service is active!\"\n",
    "\n",
    "@app.route(\"/predict\", methods=[\"POST\"])\n",
    "def predict():\n",
    "\n",
    "    data = {'success': False,\n",
    "            'prediction': 'False'\n",
    "            }\n",
    "    request_json = request.get_json()\n",
    "\n",
    "    test_date = json.loads(request_json)\n",
    "\n",
    "    for key in test_date.keys():\n",
    "      test_date[key] = [test_date[key]]\n",
    "\n",
    "    preds = model.predict(pd.DataFrame(test_date))\n",
    "\n",
    "    print(preds)\n",
    "\n",
    "    if preds[0] == 0:\n",
    "        data['prediction'] = 'Ожидаемый доход менее 50 000'\n",
    "    else:\n",
    "        data['prediction'] = 'Ожидаемый доход больше 50 000'\n",
    "\n",
    "    return json.dumps(data)\n",
    "\n",
    "if __name__ == '__main__':\n",
    "\n",
    "    filename = 'model.pkl'\n",
    "    model = pickle.load(open(filename, 'rb'))\n",
    "    app.run()"
   ]
  },
  {
   "cell_type": "code",
   "execution_count": null,
   "metadata": {},
   "outputs": [],
   "source": []
  }
 ],
 "metadata": {
  "colab": {
   "authorship_tag": "ABX9TyOCLKh8YcRDgAn5a3HlWY0t",
   "collapsed_sections": [],
   "name": "HW_09_server.ipynb",
   "provenance": []
  },
  "kernelspec": {
   "display_name": "Python 3 (ipykernel)",
   "language": "python",
   "name": "python3"
  },
  "language_info": {
   "codemirror_mode": {
    "name": "ipython",
    "version": 3
   },
   "file_extension": ".py",
   "mimetype": "text/x-python",
   "name": "python",
   "nbconvert_exporter": "python",
   "pygments_lexer": "ipython3",
   "version": "3.9.12"
  }
 },
 "nbformat": 4,
 "nbformat_minor": 1
}
