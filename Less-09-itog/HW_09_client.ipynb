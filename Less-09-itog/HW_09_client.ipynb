{
 "cells": [
  {
   "cell_type": "markdown",
   "id": "c2ec9e24",
   "metadata": {
    "id": "c2ec9e24"
   },
   "source": [
    "# Урок 9. Интеграция. Итоговый проект.\n",
    "# Клиентский файл"
   ]
  },
  {
   "cell_type": "code",
   "execution_count": 1,
   "id": "324d4687",
   "metadata": {
    "executionInfo": {
     "elapsed": 6,
     "status": "ok",
     "timestamp": 1655313370571,
     "user": {
      "displayName": "Maxim Gasilin",
      "userId": "15501735730920561422"
     },
     "user_tz": -180
    },
    "id": "324d4687"
   },
   "outputs": [],
   "source": [
    "import requests\n",
    "\n",
    "import urllib.request\n",
    "import json"
   ]
  },
  {
   "cell_type": "code",
   "execution_count": 9,
   "id": "065fd829",
   "metadata": {
    "executionInfo": {
     "elapsed": 351,
     "status": "ok",
     "timestamp": 1655313830487,
     "user": {
      "displayName": "Maxim Gasilin",
      "userId": "15501735730920561422"
     },
     "user_tz": -180
    },
    "id": "065fd829"
   },
   "outputs": [],
   "source": [
    "def send_json(body):\n",
    "    body = json.dumps(body)\n",
    "    myurl = 'http://a406-34-75-180-40.ngrok.io' + '/predict'\n",
    "    headers = {'content-type': 'application/json; charset=utf-8'}\n",
    "    response = requests.post(myurl, json=body, headers=headers)\n",
    "\n",
    "    return response.json()['prediction']\n"
   ]
  },
  {
   "cell_type": "code",
   "execution_count": 10,
   "id": "9a00f14c",
   "metadata": {
    "colab": {
     "base_uri": "https://localhost:8080/"
    },
    "executionInfo": {
     "elapsed": 295,
     "status": "ok",
     "timestamp": 1655313832237,
     "user": {
      "displayName": "Maxim Gasilin",
      "userId": "15501735730920561422"
     },
     "user_tz": -180
    },
    "id": "9a00f14c",
    "outputId": "ced07e9f-81cd-48ca-f9ca-de48dcc69e37"
   },
   "outputs": [
    {
     "name": "stdout",
     "output_type": "stream",
     "text": [
      "Предсказание:  Ожидаемый доход больше 50 000\n"
     ]
    }
   ],
   "source": [
    "body = {'age': 67,\t\n",
    "        'workclass': 'Private',\t\n",
    "        'fnlwgt': 366425,\n",
    "        'education': 'Doctorate',\n",
    "        'educational_num': 16,\t\n",
    "        'marital_status': 'Divorced',\t\n",
    "        'occupation': 'Exec-managerial',\n",
    "        'relationship': 'Not-in-family', \n",
    "        'race': 'White',\n",
    "        'gender': 'Male',\n",
    "        'capital_gain': 99999,\n",
    "        'capital_loss': 0,\n",
    "        'hours_per_week': 60,\n",
    "        'native_country': 'United-States'}\n",
    "\n",
    "response = send_json(body)\n",
    "print('Предсказание: ', response)"
   ]
  },
  {
   "cell_type": "code",
   "execution_count": 11,
   "id": "gqOnqPEgZL2M",
   "metadata": {
    "colab": {
     "base_uri": "https://localhost:8080/"
    },
    "executionInfo": {
     "elapsed": 351,
     "status": "ok",
     "timestamp": 1655313944518,
     "user": {
      "displayName": "Maxim Gasilin",
      "userId": "15501735730920561422"
     },
     "user_tz": -180
    },
    "id": "gqOnqPEgZL2M",
    "outputId": "17f0f335-a324-4f20-fdd7-bff6e0fe599c"
   },
   "outputs": [
    {
     "name": "stdout",
     "output_type": "stream",
     "text": [
      "Предсказание:  Ожидаемый доход менее 50 000\n"
     ]
    }
   ],
   "source": [
    "body = {'age': 17,\t\n",
    "        'workclass': 'Private',\t\n",
    "        'fnlwgt': 244602,\n",
    "        'education': '12th',\n",
    "        'educational_num': 8,\t\n",
    "        'marital_status': 'Never-married',\t\n",
    "        'occupation': 'Other-service',\n",
    "        'relationship': 'Own-child', \n",
    "        'race': 'White',\n",
    "        'gender': 'Male',\n",
    "        'capital_gain': 0,\n",
    "        'capital_loss': 0,\n",
    "        'hours_per_week': 15,\n",
    "        'native_country': 'United-States'}\n",
    "\n",
    "response = send_json(body)\n",
    "print('Предсказание: ', response)"
   ]
  }
 ],
 "metadata": {
  "colab": {
   "collapsed_sections": [],
   "name": "HW_09_client.ipynb",
   "provenance": []
  },
  "kernelspec": {
   "display_name": "Python 3 (ipykernel)",
   "language": "python",
   "name": "python3"
  },
  "language_info": {
   "codemirror_mode": {
    "name": "ipython",
    "version": 3
   },
   "file_extension": ".py",
   "mimetype": "text/x-python",
   "name": "python",
   "nbconvert_exporter": "python",
   "pygments_lexer": "ipython3",
   "version": "3.9.12"
  }
 },
 "nbformat": 4,
 "nbformat_minor": 5
}
